{
  "nbformat": 4,
  "nbformat_minor": 0,
  "metadata": {
    "colab": {
      "name": "02_Simple_Linear_Regression.ipynb",
      "provenance": [],
      "include_colab_link": true
    },
    "kernelspec": {
      "name": "python3",
      "display_name": "Python 3"
    }
  },
  "cells": [
    {
      "cell_type": "markdown",
      "metadata": {
        "id": "view-in-github",
        "colab_type": "text"
      },
      "source": [
        "<a href=\"https://colab.research.google.com/github/Zurezh/MachineLearning_A-Z/blob/master/02_Simple_Linear_Regression.ipynb\" target=\"_parent\"><img src=\"https://colab.research.google.com/assets/colab-badge.svg\" alt=\"Open In Colab\"/></a>"
      ]
    },
    {
      "cell_type": "markdown",
      "metadata": {
        "id": "iMHPOn3D2I_J",
        "colab_type": "text"
      },
      "source": [
        "#**Regressions**\n",
        "\n",
        "[01 Simple Linear Regression](https://github.com/Zurezh/MachineLearning_A-Z/blob/master/01_SimpleLinearRegression.PNG)\n",
        "\n",
        "[02 Simple Linear Regression Graph and Equation](https://github.com/Zurezh/MachineLearning_A-Z/blob/master/02_SLR_Graphs_Equation.PNG)\n",
        "\n",
        "[03 Ordinary Least Square](https://github.com/Zurezh/MachineLearning_A-Z/blob/master/03_OrdinaryLeastSquares.PNG)"
      ]
    },
    {
      "cell_type": "markdown",
      "metadata": {
        "id": "HYWa5cLH2M7U",
        "colab_type": "text"
      },
      "source": [
        "##**Simple Linear Regression**"
      ]
    },
    {
      "cell_type": "markdown",
      "metadata": {
        "id": "RNP7fPAy2UuH",
        "colab_type": "text"
      },
      "source": [
        "###**Step 1: Data Processing**"
      ]
    },
    {
      "cell_type": "code",
      "metadata": {
        "id": "B44KA2Pp2X-o",
        "colab_type": "code",
        "colab": {}
      },
      "source": [
        "# Importing the Libraries\n",
        "import numpy as np\n",
        "import matplotlib.pyplot as plt\n",
        "import pandas as pd"
      ],
      "execution_count": 0,
      "outputs": []
    },
    {
      "cell_type": "code",
      "metadata": {
        "id": "1YhSLrFo2QL0",
        "colab_type": "code",
        "colab": {}
      },
      "source": [
        "#Import the dataset\n",
        "dataset = pd.read_csv('https://raw.githubusercontent.com/Zurezh/MachineLearning_A-Z/master/Salary_Data.csv')\n",
        "X = dataset.iloc[:,:-1].values\n",
        "y = dataset.iloc[:,1].values"
      ],
      "execution_count": 0,
      "outputs": []
    },
    {
      "cell_type": "code",
      "metadata": {
        "id": "KcU8IU0d2dGm",
        "colab_type": "code",
        "colab": {}
      },
      "source": [
        "#Spliting the dataset into the Training Set and Test Set\n",
        "from sklearn.model_selection import train_test_split\n",
        "X_train,X_test,y_train,y_test = train_test_split(X,y,test_size=0.2,random_state = 0)"
      ],
      "execution_count": 0,
      "outputs": []
    },
    {
      "cell_type": "code",
      "metadata": {
        "id": "MAjDw1U82fFa",
        "colab_type": "code",
        "colab": {}
      },
      "source": [
        "#Feature Scaling\n",
        "#from sklearn.preprocessing import StandardScaler\n",
        "#sc_X = StandardScaler()\n",
        "#X_train = sc_X.fit_transform(X_train)\n",
        "#X_test = sc_X.transform(X_test)\"\"\""
      ],
      "execution_count": 0,
      "outputs": []
    }
  ]
}