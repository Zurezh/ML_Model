{
  "nbformat": 4,
  "nbformat_minor": 0,
  "metadata": {
    "colab": {
      "name": "03_Multiple_Linear_Regression.ipynb",
      "provenance": [],
      "include_colab_link": true
    },
    "kernelspec": {
      "name": "python3",
      "display_name": "Python 3"
    }
  },
  "cells": [
    {
      "cell_type": "markdown",
      "metadata": {
        "id": "view-in-github",
        "colab_type": "text"
      },
      "source": [
        "<a href=\"https://colab.research.google.com/github/Zurezh/MachineLearning_A-Z/blob/master/03_Multiple_Linear_Regression.ipynb\" target=\"_parent\"><img src=\"https://colab.research.google.com/assets/colab-badge.svg\" alt=\"Open In Colab\"/></a>"
      ]
    },
    {
      "cell_type": "markdown",
      "metadata": {
        "id": "Q6rOBO5q95gu",
        "colab_type": "text"
      },
      "source": [
        "#**Regressions**\n",
        "\n",
        "##**Intuition**\n",
        "\n",
        "[Multiple Linear Regression](https://github.com/Zurezh/MachineLearning_A-Z/blob/master/04_MutipleLinearRegression.PNG)\n",
        "\n",
        "[A Caveat](https://github.com/Zurezh/MachineLearning_A-Z/blob/master/05_Caveat.PNG)\n",
        "\n",
        "[Dummy Variables](https://github.com/Zurezh/MachineLearning_A-Z/blob/master/06_DummyVariables.PNG)\n",
        "\n",
        "[Dummy Variables Trap](https://github.com/Zurezh/MachineLearning_A-Z/blob/master/07_DummyVariablesTrap.PNG)\n",
        "\n",
        "##**Building a Model**\n",
        "[5 Methods of Building Models](https://github.com/Zurezh/MachineLearning_A-Z/blob/master/08_BuildingAModel.PNG)\n",
        "\n",
        "[01 All-In](https://github.com/Zurezh/MachineLearning_A-Z/blob/master/09_AllIn.PNG)\n",
        "\n",
        "[02 Backward Elimination](https://github.com/Zurezh/MachineLearning_A-Z/blob/master/10_BackwardElimination.PNG)\n",
        "\n",
        "[03 Forward Selection](https://github.com/Zurezh/MachineLearning_A-Z/blob/master/11_ForwardSelection.PNG)\n",
        "\n",
        "[04 Bidirectional Elimination](https://github.com/Zurezh/MachineLearning_A-Z/blob/master/12_BiDirectional.PNG)\n",
        "\n",
        "[05 All Possible Models](https://github.com/Zurezh/MachineLearning_A-Z/blob/master/13_AllPossibleModels.PNG)"
      ]
    },
    {
      "cell_type": "markdown",
      "metadata": {
        "id": "2bdtBlH0CkyB",
        "colab_type": "text"
      },
      "source": [
        "##**Step 1: Data Processing**"
      ]
    },
    {
      "cell_type": "code",
      "metadata": {
        "id": "wp2baWx1A0uo",
        "colab_type": "code",
        "colab": {}
      },
      "source": [
        "# Importing the Libraries\n",
        "import numpy as np\n",
        "import matplotlib.pyplot as plt\n",
        "import pandas as pd"
      ],
      "execution_count": 0,
      "outputs": []
    },
    {
      "cell_type": "code",
      "metadata": {
        "id": "m51zuFuTAwBO",
        "colab_type": "code",
        "colab": {}
      },
      "source": [
        "#Import the dataset\n",
        "dataset = pd.read_csv('https://raw.githubusercontent.com/Zurezh/MachineLearning_A-Z/master/50_Startups.csv')\n",
        "X = dataset.iloc[:,:-1].values\n",
        "y = dataset.iloc[:,4].values\n",
        "#print(X)\n",
        "#print(y)"
      ],
      "execution_count": 0,
      "outputs": []
    },
    {
      "cell_type": "code",
      "metadata": {
        "id": "aBMif7CaDGeK",
        "colab_type": "code",
        "colab": {
          "base_uri": "https://localhost:8080/",
          "height": 139
        },
        "outputId": "3c7d434a-e849-425f-c9e4-e93e8d385b6f"
      },
      "source": [
        "#Encoding categorical data\n",
        "#Encoding the Independent Variable\n",
        "from sklearn.preprocessing import LabelEncoder, OneHotEncoder\n",
        "labelencoder_X = LabelEncoder()\n",
        "X[:,3] = labelencoder_X.fit_transform(X[:,3])\n",
        "onehotencoder = OneHotEncoder(categorical_features = [3])\n",
        "X = onehotencoder.fit_transform(X).toarray()\n",
        "#print(X)"
      ],
      "execution_count": 22,
      "outputs": [
        {
          "output_type": "stream",
          "text": [
            "/usr/local/lib/python3.6/dist-packages/sklearn/preprocessing/_encoders.py:415: FutureWarning: The handling of integer data will change in version 0.22. Currently, the categories are determined based on the range [0, max(values)], while in the future they will be determined based on the unique values.\n",
            "If you want the future behaviour and silence this warning, you can specify \"categories='auto'\".\n",
            "In case you used a LabelEncoder before this OneHotEncoder to convert the categories to integers, then you can now use the OneHotEncoder directly.\n",
            "  warnings.warn(msg, FutureWarning)\n",
            "/usr/local/lib/python3.6/dist-packages/sklearn/preprocessing/_encoders.py:451: DeprecationWarning: The 'categorical_features' keyword is deprecated in version 0.20 and will be removed in 0.22. You can use the ColumnTransformer instead.\n",
            "  \"use the ColumnTransformer instead.\", DeprecationWarning)\n"
          ],
          "name": "stderr"
        }
      ]
    },
    {
      "cell_type": "code",
      "metadata": {
        "id": "tyRXeFWyEBVq",
        "colab_type": "code",
        "colab": {}
      },
      "source": [
        "#Avoiding the Dummy Variable Trap\n",
        "X = X[:,1:]\n",
        "#print(X)"
      ],
      "execution_count": 0,
      "outputs": []
    },
    {
      "cell_type": "code",
      "metadata": {
        "id": "PaN-K-nLCtMF",
        "colab_type": "code",
        "colab": {}
      },
      "source": [
        "#Spliting the dataset into the Training Set and Test Set\n",
        "from sklearn.model_selection import train_test_split\n",
        "X_train,X_test,y_train,y_test = train_test_split(X, y, test_size = 0.2, random_state = 0)"
      ],
      "execution_count": 0,
      "outputs": []
    },
    {
      "cell_type": "code",
      "metadata": {
        "id": "RAZJ4NYaEK7c",
        "colab_type": "code",
        "colab": {}
      },
      "source": [
        ""
      ],
      "execution_count": 0,
      "outputs": []
    }
  ]
}