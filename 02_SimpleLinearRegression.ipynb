{
  "nbformat": 4,
  "nbformat_minor": 0,
  "metadata": {
    "colab": {
      "name": "01_DataPreprocessingTemplate_FinalVersion.ipynb",
      "provenance": [],
      "include_colab_link": true
    },
    "kernelspec": {
      "name": "python3",
      "display_name": "Python 3"
    }
  },
  "cells": [
    {
      "cell_type": "markdown",
      "metadata": {
        "id": "view-in-github",
        "colab_type": "text"
      },
      "source": [
        "<a href=\"https://colab.research.google.com/github/Zurezh/MachineLearning_A-Z/blob/master/02_SimpleLinearRegression.ipynb\" target=\"_parent\"><img src=\"https://colab.research.google.com/assets/colab-badge.svg\" alt=\"Open In Colab\"/></a>"
      ]
    },
    {
      "cell_type": "markdown",
      "metadata": {
        "id": "pNXXUi-dr4fq",
        "colab_type": "text"
      },
      "source": [
        "#**Data Processing**"
      ]
    },
    {
      "cell_type": "code",
      "metadata": {
        "id": "aUy9J-GAg7al",
        "colab_type": "code",
        "colab": {}
      },
      "source": [
        "# Importing the Libraries\n",
        "import numpy as np\n",
        "import matplotlib.pyplot as plt\n",
        "import pandas as pd"
      ],
      "execution_count": 0,
      "outputs": []
    },
    {
      "cell_type": "code",
      "metadata": {
        "id": "V8vYXIMfiWrF",
        "colab_type": "code",
        "colab": {}
      },
      "source": [
        "#Import the dataset\n",
        "dataset = pd.read_csv('https://raw.githubusercontent.com/Zurezh/MachineLearning_A-Z/master/Data.csv')\n",
        "X = dataset.iloc[:,:-1].values\n",
        "y = dataset.iloc[:,3].values"
      ],
      "execution_count": 0,
      "outputs": []
    },
    {
      "cell_type": "code",
      "metadata": {
        "id": "68K_fWI5odvs",
        "colab_type": "code",
        "colab": {}
      },
      "source": [
        "#Spliting the dataset into the Training Set and Test Set\n",
        "from sklearn.model_selection import train_test_split\n",
        "X_train,X_test,y_train,y_test = train_test_split(X,y,test_size=0.2,random_state = 0)"
      ],
      "execution_count": 0,
      "outputs": []
    },
    {
      "cell_type": "code",
      "metadata": {
        "id": "sLm_lbMZplok",
        "colab_type": "code",
        "colab": {}
      },
      "source": [
        "#Feature Scaling\n",
        "#from sklearn.preprocessing import StandardScaler\n",
        "#sc_X = StandardScaler()\n",
        "#X_train = sc_X.fit_transform(X_train)\n",
        "#X_test = sc_X.transform(X_test)\"\"\""
      ],
      "execution_count": 0,
      "outputs": []
    }
  ]
}